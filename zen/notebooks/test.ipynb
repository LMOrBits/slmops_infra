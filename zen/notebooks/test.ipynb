{
 "cells": [
  {
   "cell_type": "markdown",
   "metadata": {},
   "source": [
    "# Test Dask Kubernetes with Hugging Face Dataset"
   ]
  },
  {
   "cell_type": "code",
   "execution_count": null,
   "metadata": {},
   "outputs": [],
   "source": [
    "# Install required libraries\n",
    "!pip install dask-kubernetes datasets dask"
   ]
  },
  {
   "cell_type": "markdown",
   "metadata": {},
   "source": [
    "## Step 1: Import Required Libraries"
   ]
  },
  {
   "cell_type": "code",
   "execution_count": 1,
   "metadata": {},
   "outputs": [
    {
     "name": "stderr",
     "output_type": "stream",
     "text": [
      "/var/folders/2s/p8s29f7d1pzc017drngfx7z40000gn/T/ipykernel_10847/2624028650.py:1: DeprecationWarning: It looks like you are using the classic implementation of KubeCluster. Please consider migrating to the new operator based implementation https://kubernetes.dask.org/en/latest/kubecluster_migrating.html. To suppress this warning import KubeCluster directly from dask_kubernetes.classic. But note this will be removed in the future. \n",
      "  from dask_kubernetes import KubeCluster, make_pod_spec\n"
     ]
    }
   ],
   "source": [
    "\n",
    "from dask_kubernetes.operator import KubeCluster\n",
    "from dask.distributed import Client\n",
    "from datasets import load_dataset\n",
    "import logging\n",
    "\n",
    "# Set up logging\n",
    "logging.basicConfig(level=logging.INFO)\n",
    "logger = logging.getLogger(__name__)"
   ]
  },
  {
   "cell_type": "markdown",
   "metadata": {},
   "source": [
    "## Step 2: Create Dask Kubernetes Cluster"
   ]
  },
  {
   "cell_type": "code",
   "execution_count": null,
   "metadata": {},
   "outputs": [],
   "source": [
    "# Define pod specification for Dask workers\n",
    "pod_spec = make_pod_spec(\n",
    "    image=\"my-custom-dask-image:latest\",  # Replace with your Docker image\n",
    "    memory_limit=\"1Gi\",\n",
    "    memory_request=\"1Gi\",\n",
    "    cpu_limit=1.0,\n",
    "    cpu_request=1.0\n",
    ")\n",
    "\n",
    "# Create a Dask Kubernetes cluster\n",
    "cluster = KubeCluster(pod_spec, namespace=\"default\")\n",
    "cluster.scale(n=3)  # Scale to 3 workers\n",
    "\n",
    "# Connect a Dask client to the cluster\n",
    "client = Client(cluster)\n",
    "logger.info(f\"Dask scheduler dashboard: {client.dashboard_link}\")"
   ]
  },
  {
   "cell_type": "markdown",
   "metadata": {},
   "source": [
    "## Step 3: Load Hugging Face Dataset and Process in Batches"
   ]
  },
  {
   "cell_type": "code",
   "execution_count": null,
   "metadata": {},
   "outputs": [],
   "source": [
    "# Load a dataset from Hugging Face\n",
    "dataset_name = \"imdb\"\n",
    "batch_size = 1000  # Number of rows per batch\n",
    "\n",
    "logger.info(f\"Loading dataset '{dataset_name}'...\")\n",
    "dataset = load_dataset(dataset_name, split=\"train\")\n",
    "\n",
    "# Process dataset in batches\n",
    "logger.info(f\"Processing dataset in batches of {batch_size} rows...\")\n",
    "for i in range(0, len(dataset), batch_size):\n",
    "    batch = dataset.select(range(i, min(i + batch_size, len(dataset))))\n",
    "    logger.info(f\"Processing batch {i // batch_size + 1}: {len(batch)} rows\")\n",
    "\n",
    "logger.info(\"Dataset processing completed.\")"
   ]
  },
  {
   "cell_type": "markdown",
   "metadata": {},
   "source": [
    "## Step 4: Clean Up Cluster"
   ]
  },
  {
   "cell_type": "code",
   "execution_count": null,
   "metadata": {},
   "outputs": [],
   "source": [
    "# Clean up the cluster\n",
    "client.close()\n",
    "cluster.close()\n",
    "logger.info(\"Cluster resources released.\")"
   ]
  }
 ],
 "metadata": {
  "kernelspec": {
   "display_name": "Python 3",
   "language": "python",
   "name": "python3"
  },
  "language_info": {
   "codemirror_mode": {
    "name": "ipython",
    "version": 3
   },
   "file_extension": ".py",
   "mimetype": "text/x-python",
   "name": "python",
   "nbconvert_exporter": "python",
   "pygments_lexer": "ipython3",
   "version": "3.8.12"
  }
 },
 "nbformat": 4,
 "nbformat_minor": 5
}
