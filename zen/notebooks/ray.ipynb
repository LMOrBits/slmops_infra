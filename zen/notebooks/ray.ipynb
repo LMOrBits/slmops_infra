{
 "cells": [
  {
   "cell_type": "code",
   "execution_count": 3,
   "metadata": {},
   "outputs": [
    {
     "name": "stdout",
     "output_type": "stream",
     "text": [
      "2.9.0\n"
     ]
    }
   ],
   "source": [
    "import ray\n",
    "print(ray.__version__)"
   ]
  },
  {
   "cell_type": "code",
   "execution_count": 6,
   "metadata": {},
   "outputs": [],
   "source": [
    "ray.shutdown()"
   ]
  },
  {
   "cell_type": "code",
   "execution_count": 7,
   "metadata": {},
   "outputs": [
    {
     "name": "stderr",
     "output_type": "stream",
     "text": [
      "SIGTERM handler is not set because current thread is not the main thread.\n"
     ]
    },
    {
     "name": "stdout",
     "output_type": "stream",
     "text": [
      "{'CPU': 2.0, 'node:__internal_head__': 1.0, 'object_store_memory': 769792818.0, 'memory': 3000000000.0, 'node:10.42.0.57': 1.0, 'node:10.42.1.26': 1.0}\n"
     ]
    }
   ],
   "source": [
    "ray.init(\"ray://localhost:10001\")\n",
    "print(ray.cluster_resources())\n"
   ]
  },
  {
   "cell_type": "code",
   "execution_count": 11,
   "metadata": {},
   "outputs": [
    {
     "name": "stdout",
     "output_type": "stream",
     "text": [
      "[{'Alive': True,\n",
      "  'Labels': {'ray.io/node_id': '371856be8eaaac5869975badf25f3e590ca90c58639118ef35ebb7b9'},\n",
      "  'MetricsExportPort': 8080,\n",
      "  'NodeID': '371856be8eaaac5869975badf25f3e590ca90c58639118ef35ebb7b9',\n",
      "  'NodeManagerAddress': '10.42.1.26',\n",
      "  'NodeManagerHostname': 'raycluster-kuberay-head-vlrx7',\n",
      "  'NodeManagerPort': 33099,\n",
      "  'NodeName': '10.42.1.26',\n",
      "  'ObjectManagerPort': 40645,\n",
      "  'ObjectStoreSocketName': '/tmp/ray/session_2025-01-03_05-47-56_025652_8/sockets/plasma_store',\n",
      "  'RayletSocketName': '/tmp/ray/session_2025-01-03_05-47-56_025652_8/sockets/raylet',\n",
      "  'Resources': {'CPU': 1.0,\n",
      "                'memory': 2000000000.0,\n",
      "                'node:10.42.1.26': 1.0,\n",
      "                'node:__internal_head__': 1.0,\n",
      "                'object_store_memory': 502102425.0},\n",
      "  'RuntimeEnvAgentPort': 53040,\n",
      "  'alive': True},\n",
      " {'Alive': True,\n",
      "  'Labels': {'ray.io/node_id': 'c6313f3c67e5c4558e2dc5738e6325277e118366ea7de017bbcdc57e'},\n",
      "  'MetricsExportPort': 8080,\n",
      "  'NodeID': 'c6313f3c67e5c4558e2dc5738e6325277e118366ea7de017bbcdc57e',\n",
      "  'NodeManagerAddress': '10.42.0.57',\n",
      "  'NodeManagerHostname': 'raycluster-kuberay-workergroup-worker-cncz2',\n",
      "  'NodeManagerPort': 33917,\n",
      "  'NodeName': '10.42.0.57',\n",
      "  'ObjectManagerPort': 36503,\n",
      "  'ObjectStoreSocketName': '/tmp/ray/session_2025-01-03_05-47-56_025652_8/sockets/plasma_store',\n",
      "  'RayletSocketName': '/tmp/ray/session_2025-01-03_05-47-56_025652_8/sockets/raylet',\n",
      "  'Resources': {'CPU': 1.0,\n",
      "                'memory': 1000000000.0,\n",
      "                'node:10.42.0.57': 1.0,\n",
      "                'object_store_memory': 267690393.0},\n",
      "  'RuntimeEnvAgentPort': 47821,\n",
      "  'alive': True}]\n"
     ]
    }
   ],
   "source": [
    "from pprint import pprint\n",
    "pprint(ray.nodes())"
   ]
  },
  {
   "cell_type": "code",
   "execution_count": 10,
   "metadata": {},
   "outputs": [
    {
     "name": "stdout",
     "output_type": "stream",
     "text": [
      "[0, 1, 4, 9, 16, 25, 36, 49, 64, 81, 100, 121, 144, 169, 196, 225, 256, 289, 324, 361, 400, 441, 484, 529, 576, 625, 676, 729, 784, 841, 900, 961, 1024, 1089, 1156, 1225, 1296, 1369, 1444, 1521, 1600, 1681, 1764, 1849, 1936, 2025, 2116, 2209, 2304, 2401, 2500, 2601, 2704, 2809, 2916, 3025, 3136, 3249, 3364, 3481, 3600, 3721, 3844, 3969, 4096, 4225, 4356, 4489, 4624, 4761, 4900, 5041, 5184, 5329, 5476, 5625, 5776, 5929, 6084, 6241, 6400, 6561, 6724, 6889, 7056, 7225, 7396, 7569, 7744, 7921, 8100, 8281, 8464, 8649, 8836, 9025, 9216, 9409, 9604, 9801, 10000, 10201, 10404, 10609, 10816, 11025, 11236, 11449, 11664, 11881, 12100, 12321, 12544, 12769, 12996, 13225, 13456, 13689, 13924, 14161, 14400, 14641, 14884, 15129, 15376, 15625, 15876, 16129, 16384, 16641, 16900, 17161, 17424, 17689, 17956, 18225, 18496, 18769, 19044, 19321, 19600, 19881, 20164, 20449, 20736, 21025, 21316, 21609, 21904, 22201, 22500, 22801, 23104, 23409, 23716, 24025, 24336, 24649, 24964, 25281, 25600, 25921, 26244, 26569, 26896, 27225, 27556, 27889, 28224, 28561, 28900, 29241, 29584, 29929, 30276, 30625, 30976, 31329, 31684, 32041, 32400, 32761, 33124, 33489, 33856, 34225, 34596, 34969, 35344, 35721, 36100, 36481, 36864, 37249, 37636, 38025, 38416, 38809, 39204, 39601, 40000, 40401, 40804, 41209, 41616, 42025, 42436, 42849, 43264, 43681, 44100, 44521, 44944, 45369, 45796, 46225, 46656, 47089, 47524, 47961, 48400, 48841, 49284, 49729, 50176, 50625, 51076, 51529, 51984, 52441, 52900, 53361, 53824, 54289, 54756, 55225, 55696, 56169, 56644, 57121, 57600, 58081, 58564, 59049, 59536, 60025, 60516, 61009, 61504, 62001, 62500, 63001, 63504, 64009, 64516, 65025, 65536, 66049, 66564, 67081, 67600, 68121, 68644, 69169, 69696, 70225, 70756, 71289, 71824, 72361, 72900, 73441, 73984, 74529, 75076, 75625, 76176, 76729, 77284, 77841, 78400, 78961, 79524, 80089, 80656, 81225, 81796, 82369, 82944, 83521, 84100, 84681, 85264, 85849, 86436, 87025, 87616, 88209, 88804, 89401, 90000, 90601, 91204, 91809, 92416, 93025, 93636, 94249, 94864, 95481, 96100, 96721, 97344, 97969, 98596, 99225, 99856, 100489, 101124, 101761, 102400, 103041, 103684, 104329, 104976, 105625, 106276, 106929, 107584, 108241, 108900, 109561, 110224, 110889, 111556, 112225, 112896, 113569, 114244, 114921, 115600, 116281, 116964, 117649, 118336, 119025, 119716, 120409, 121104, 121801, 122500, 123201, 123904, 124609, 125316, 126025, 126736, 127449, 128164, 128881, 129600, 130321, 131044, 131769, 132496, 133225, 133956, 134689, 135424, 136161, 136900, 137641, 138384, 139129, 139876, 140625, 141376, 142129, 142884, 143641, 144400, 145161, 145924, 146689, 147456, 148225, 148996, 149769, 150544, 151321, 152100, 152881, 153664, 154449, 155236, 156025, 156816, 157609, 158404, 159201, 160000, 160801, 161604, 162409, 163216, 164025, 164836, 165649, 166464, 167281, 168100, 168921, 169744, 170569, 171396, 172225, 173056, 173889, 174724, 175561, 176400, 177241, 178084, 178929, 179776, 180625, 181476, 182329, 183184, 184041, 184900, 185761, 186624, 187489, 188356, 189225, 190096, 190969, 191844, 192721, 193600, 194481, 195364, 196249, 197136, 198025, 198916, 199809, 200704, 201601, 202500, 203401, 204304, 205209, 206116, 207025, 207936, 208849, 209764, 210681, 211600, 212521, 213444, 214369, 215296, 216225, 217156, 218089, 219024, 219961, 220900, 221841, 222784, 223729, 224676, 225625, 226576, 227529, 228484, 229441, 230400, 231361, 232324, 233289, 234256, 235225, 236196, 237169, 238144, 239121, 240100, 241081, 242064, 243049, 244036, 245025, 246016, 247009, 248004, 249001, 250000, 251001, 252004, 253009, 254016, 255025, 256036, 257049, 258064, 259081, 260100, 261121, 262144, 263169, 264196, 265225, 266256, 267289, 268324, 269361, 270400, 271441, 272484, 273529, 274576, 275625, 276676, 277729, 278784, 279841, 280900, 281961, 283024, 284089, 285156, 286225, 287296, 288369, 289444, 290521, 291600, 292681, 293764, 294849, 295936, 297025, 298116, 299209, 300304, 301401, 302500, 303601, 304704, 305809, 306916, 308025, 309136, 310249, 311364, 312481, 313600, 314721, 315844, 316969, 318096, 319225, 320356, 321489, 322624, 323761, 324900, 326041, 327184, 328329, 329476, 330625, 331776, 332929, 334084, 335241, 336400, 337561, 338724, 339889, 341056, 342225, 343396, 344569, 345744, 346921, 348100, 349281, 350464, 351649, 352836, 354025, 355216, 356409, 357604, 358801]\n"
     ]
    }
   ],
   "source": [
    "\n",
    "# {'node:10.244.0.41': 1.0, 'memory': 3000000000.0, 'node:10.244.0.40': 1.0, 'object_store_memory': 805386239.0, 'CPU': 2.0}\n",
    "\n",
    "# Try Ray task\n",
    "@ray.remote(num_cpus=1.0)\n",
    "def f(x):\n",
    "    return x * x\n",
    "\n",
    "futures = [f.remote(i) for i in range(600)]\n",
    "print(ray.get(futures)) # [0, 1, 4, 9]"
   ]
  },
  {
   "cell_type": "code",
   "execution_count": null,
   "metadata": {},
   "outputs": [],
   "source": [
    "ray.c"
   ]
  },
  {
   "cell_type": "code",
   "execution_count": 6,
   "metadata": {},
   "outputs": [],
   "source": [
    "ray.shutdown(f)"
   ]
  },
  {
   "cell_type": "code",
   "execution_count": 2,
   "metadata": {},
   "outputs": [
    {
     "name": "stdout",
     "output_type": "stream",
     "text": [
      "Help on function remote in module ray._private.worker:\n",
      "\n",
      "remote(*args, **kwargs) -> Union[ray.remote_function.RemoteFunction, ray.actor.ActorClass]\n",
      "    Defines a remote function or an actor class.\n",
      "    \n",
      "    This function can be used as a decorator with no arguments\n",
      "    to define a remote function or actor as follows:\n",
      "    \n",
      "    >>> import ray\n",
      "    >>>\n",
      "    >>> @ray.remote\n",
      "    ... def f(a, b, c):\n",
      "    ...     return a + b + c\n",
      "    >>>\n",
      "    >>> object_ref = f.remote(1, 2, 3)\n",
      "    >>> result = ray.get(object_ref)\n",
      "    >>> assert result == (1 + 2 + 3)\n",
      "    >>>\n",
      "    >>> @ray.remote\n",
      "    ... class Foo:\n",
      "    ...     def __init__(self, arg):\n",
      "    ...         self.x = arg\n",
      "    ...\n",
      "    ...     def method(self, a):\n",
      "    ...         return self.x + a\n",
      "    >>>\n",
      "    >>> actor_handle = Foo.remote(123)\n",
      "    >>> object_ref = actor_handle.method.remote(321)\n",
      "    >>> result = ray.get(object_ref)\n",
      "    >>> assert result == (123 + 321)\n",
      "    \n",
      "    Equivalently, use a function call to create a remote function or actor.\n",
      "    \n",
      "    >>> def g(a, b, c):\n",
      "    ...     return a + b + c\n",
      "    >>>\n",
      "    >>> remote_g = ray.remote(g)\n",
      "    >>> object_ref = remote_g.remote(1, 2, 3)\n",
      "    >>> assert ray.get(object_ref) == (1 + 2 + 3)\n",
      "    \n",
      "    >>> class Bar:\n",
      "    ...     def __init__(self, arg):\n",
      "    ...         self.x = arg\n",
      "    ...\n",
      "    ...     def method(self, a):\n",
      "    ...         return self.x + a\n",
      "    >>>\n",
      "    >>> RemoteBar = ray.remote(Bar)\n",
      "    >>> actor_handle = RemoteBar.remote(123)\n",
      "    >>> object_ref = actor_handle.method.remote(321)\n",
      "    >>> result = ray.get(object_ref)\n",
      "    >>> assert result == (123 + 321)\n",
      "    \n",
      "    \n",
      "    It can also be used with specific keyword arguments as follows:\n",
      "    \n",
      "    >>> @ray.remote(num_gpus=1, max_calls=1, num_returns=2)\n",
      "    ... def f():\n",
      "    ...     return 1, 2\n",
      "    >>>\n",
      "    >>> @ray.remote(num_cpus=2, resources={\"CustomResource\": 1})\n",
      "    ... class Foo:\n",
      "    ...     def method(self):\n",
      "    ...         return 1\n",
      "    \n",
      "    Remote task and actor objects returned by @ray.remote can also be\n",
      "    dynamically modified with the same arguments as above using\n",
      "    ``.options()`` as follows:\n",
      "    \n",
      "    >>> @ray.remote(num_gpus=1, max_calls=1, num_returns=2)\n",
      "    ... def f():\n",
      "    ...     return 1, 2\n",
      "    >>>\n",
      "    >>> f_with_2_gpus = f.options(num_gpus=2) # doctest: +SKIP\n",
      "    >>> object_ref = f_with_2_gpus.remote() # doctest: +SKIP\n",
      "    >>> assert ray.get(object_ref) == (1, 2) # doctest: +SKIP\n",
      "    \n",
      "    >>> @ray.remote(num_cpus=2, resources={\"CustomResource\": 1})\n",
      "    ... class Foo:\n",
      "    ...     def method(self):\n",
      "    ...         return 1\n",
      "    >>>\n",
      "    >>> Foo_with_no_resources = Foo.options(num_cpus=1, resources=None)\n",
      "    >>> foo_actor = Foo_with_no_resources.remote()\n",
      "    >>> assert ray.get(foo_actor.method.remote()) == 1\n",
      "    \n",
      "    \n",
      "    A remote actor will be terminated when all actor handle to it\n",
      "    in Python is deleted, which will cause them to complete any outstanding\n",
      "    work and then shut down. If you only have 1 reference to an actor handle,\n",
      "    calling ``del actor`` *could* trigger actor deletion. Note that your program\n",
      "    may have multiple references to the same ActorHandle, and actor termination\n",
      "    will not occur until the reference count goes to 0. See the Python\n",
      "    documentation for more context about object deletion.\n",
      "    https://docs.python.org/3.9/reference/datamodel.html#object.__del__\n",
      "    \n",
      "    If you want to kill actors immediately, you can also call ``ray.kill(actor)``.\n",
      "    \n",
      "    .. tip::\n",
      "        Avoid repeatedly passing in large arguments to remote task or method calls.\n",
      "    \n",
      "        Instead, use ray.put to create a copy of the object in the object store.\n",
      "    \n",
      "        See :ref:`more info here <tip-delay-get>`.\n",
      "    \n",
      "    Args:\n",
      "        num_returns: This is only for *remote functions*. It specifies\n",
      "            the number of object refs returned by the remote function\n",
      "            invocation. Pass \"dynamic\" to allow the task to decide how many\n",
      "            return values to return during execution, and the caller will\n",
      "            receive an ObjectRef[ObjectRefGenerator] (note, this setting is\n",
      "            experimental).\n",
      "        num_cpus: The quantity of CPU cores to reserve\n",
      "            for this task or for the lifetime of the actor.\n",
      "        num_gpus: The quantity of GPUs to reserve\n",
      "            for this task or for the lifetime of the actor.\n",
      "        resources (Dict[str, float]): The quantity of various custom resources\n",
      "            to reserve for this task or for the lifetime of the actor.\n",
      "            This is a dictionary mapping strings (resource names) to floats.\n",
      "        accelerator_type: If specified, requires that the task or actor run\n",
      "            on a node with the specified type of accelerator.\n",
      "            See `ray.util.accelerators` for accelerator types.\n",
      "        memory: The heap memory request in bytes for this task/actor,\n",
      "            rounded down to the nearest integer.\n",
      "        max_calls: Only for *remote functions*. This specifies the\n",
      "            maximum number of times that a given worker can execute\n",
      "            the given remote function before it must exit\n",
      "            (this can be used to address memory leaks in third-party\n",
      "            libraries or to reclaim resources that cannot easily be\n",
      "            released, e.g., GPU memory that was acquired by TensorFlow).\n",
      "            By default this is infinite for CPU tasks and 1 for GPU tasks\n",
      "            (to force GPU tasks to release resources after finishing).\n",
      "        max_restarts: Only for *actors*. This specifies the maximum\n",
      "            number of times that the actor should be restarted when it dies\n",
      "            unexpectedly. The minimum valid value is 0 (default),\n",
      "            which indicates that the actor doesn't need to be restarted.\n",
      "            A value of -1 indicates that an actor should be restarted\n",
      "            indefinitely.\n",
      "        max_task_retries: Only for *actors*. How many times to\n",
      "            retry an actor task if the task fails due to a system error,\n",
      "            e.g., the actor has died. If set to -1, the system will\n",
      "            retry the failed task until the task succeeds, or the actor\n",
      "            has reached its max_restarts limit. If set to `n > 0`, the\n",
      "            system will retry the failed task up to n times, after which the\n",
      "            task will throw a `RayActorError` exception upon :obj:`ray.get`.\n",
      "            Note that Python exceptions are not considered system errors\n",
      "            and will not trigger retries.\n",
      "        max_retries: Only for *remote functions*. This specifies\n",
      "            the maximum number of times that the remote function\n",
      "            should be rerun when the worker process executing it\n",
      "            crashes unexpectedly. The minimum valid value is 0,\n",
      "            the default is 4 (default), and a value of -1 indicates\n",
      "            infinite retries.\n",
      "        runtime_env (Dict[str, Any]): Specifies the runtime environment for\n",
      "            this actor or task and its children. See\n",
      "            :ref:`runtime-environments` for detailed documentation.\n",
      "        retry_exceptions: Only for *remote functions*. This specifies whether\n",
      "            application-level errors should be retried up to max_retries times.\n",
      "            This can be a boolean or a list of exceptions that should be retried.\n",
      "        scheduling_strategy: Strategy about how to\n",
      "            schedule a remote function or actor. Possible values are\n",
      "            None: ray will figure out the scheduling strategy to use, it\n",
      "            will either be the PlacementGroupSchedulingStrategy using parent's\n",
      "            placement group if parent has one and has\n",
      "            placement_group_capture_child_tasks set to true,\n",
      "            or \"DEFAULT\";\n",
      "            \"DEFAULT\": default hybrid scheduling;\n",
      "            \"SPREAD\": best effort spread scheduling;\n",
      "            `PlacementGroupSchedulingStrategy`:\n",
      "            placement group based scheduling;\n",
      "            `NodeAffinitySchedulingStrategy`:\n",
      "            node id based affinity scheduling.\n",
      "        _metadata: Extended options for Ray libraries. For example,\n",
      "            _metadata={\"workflows.io/options\": <workflow options>} for Ray workflows.\n",
      "    \n",
      "    PublicAPI: This API is stable across Ray releases.\n",
      "\n"
     ]
    }
   ],
   "source": [
    "import ray\n",
    "\n",
    "help(ray.remote)\n"
   ]
  },
  {
   "cell_type": "code",
   "execution_count": null,
   "metadata": {},
   "outputs": [],
   "source": []
  }
 ],
 "metadata": {
  "kernelspec": {
   "display_name": ".venv",
   "language": "python",
   "name": "python3"
  },
  "language_info": {
   "codemirror_mode": {
    "name": "ipython",
    "version": 3
   },
   "file_extension": ".py",
   "mimetype": "text/x-python",
   "name": "python",
   "nbconvert_exporter": "python",
   "pygments_lexer": "ipython3",
   "version": "3.8.12"
  }
 },
 "nbformat": 4,
 "nbformat_minor": 2
}
